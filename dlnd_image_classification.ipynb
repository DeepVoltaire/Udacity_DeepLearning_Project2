{
 "cells": [
  {
   "cell_type": "markdown",
   "metadata": {
    "collapsed": true,
    "heading_collapsed": true
   },
   "source": [
    "# Image Classification\n",
    "In this project, you'll classify images from the [CIFAR-10 dataset](https://www.cs.toronto.edu/~kriz/cifar.html).  The dataset consists of airplanes, dogs, cats, and other objects. You'll preprocess the images, then train a convolutional neural network on all the samples. The images need to be normalized and the labels need to be one-hot encoded.  You'll get to apply what you learned and build a convolutional, max pooling, dropout, and fully connected layers.  At the end, you'll get to see your neural network's predictions on the sample images.\n",
    "## Get the Data\n",
    "Run the following cell to download the [CIFAR-10 dataset for python](https://www.cs.toronto.edu/~kriz/cifar-10-python.tar.gz)."
   ]
  },
  {
   "cell_type": "code",
   "execution_count": 1,
   "metadata": {
    "ExecuteTime": {
     "end_time": "2017-08-31T14:40:16.439692Z",
     "start_time": "2017-08-31T14:39:23.522493Z"
    },
    "hidden": true
   },
   "outputs": [
    {
     "name": "stderr",
     "output_type": "stream",
     "text": [
      "CIFAR-10 Dataset: 171MB [00:50, 3.37MB/s]                              \n"
     ]
    },
    {
     "name": "stdout",
     "output_type": "stream",
     "text": [
      "All files found!\n"
     ]
    }
   ],
   "source": [
    "\"\"\"\n",
    "DON'T MODIFY ANYTHING IN THIS CELL THAT IS BELOW THIS LINE\n",
    "\"\"\"\n",
    "from urllib.request import urlretrieve\n",
    "from os.path import isfile, isdir\n",
    "from tqdm import tqdm\n",
    "import problem_unittests as tests\n",
    "import tarfile\n",
    "\n",
    "cifar10_dataset_folder_path = 'cifar-10-batches-py'\n",
    "\n",
    "# Use Floyd's cifar-10 dataset if present\n",
    "floyd_cifar10_location = '/input/cifar-10/python.tar.gz'\n",
    "if isfile(floyd_cifar10_location):\n",
    "    tar_gz_path = floyd_cifar10_location\n",
    "else:\n",
    "    tar_gz_path = 'cifar-10-python.tar.gz'\n",
    "\n",
    "class DLProgress(tqdm):\n",
    "    last_block = 0\n",
    "\n",
    "    def hook(self, block_num=1, block_size=1, total_size=None):\n",
    "        self.total = total_size\n",
    "        self.update((block_num - self.last_block) * block_size)\n",
    "        self.last_block = block_num\n",
    "\n",
    "if not isfile(tar_gz_path):\n",
    "    with DLProgress(unit='B', unit_scale=True, miniters=1, desc='CIFAR-10 Dataset') as pbar:\n",
    "        urlretrieve(\n",
    "            'https://www.cs.toronto.edu/~kriz/cifar-10-python.tar.gz',\n",
    "            tar_gz_path,\n",
    "            pbar.hook)\n",
    "\n",
    "if not isdir(cifar10_dataset_folder_path):\n",
    "    with tarfile.open(tar_gz_path) as tar:\n",
    "        tar.extractall()\n",
    "        tar.close()\n",
    "\n",
    "\n",
    "tests.test_folder_path(cifar10_dataset_folder_path)"
   ]
  },
  {
   "cell_type": "markdown",
   "metadata": {
    "hidden": true
   },
   "source": [
    "## Explore the Data\n",
    "The dataset is broken into batches to prevent your machine from running out of memory.  The CIFAR-10 dataset consists of 5 batches, named `data_batch_1`, `data_batch_2`, etc.. Each batch contains the labels and images that are one of the following:\n",
    "* airplane\n",
    "* automobile\n",
    "* bird\n",
    "* cat\n",
    "* deer\n",
    "* dog\n",
    "* frog\n",
    "* horse\n",
    "* ship\n",
    "* truck\n",
    "\n",
    "Understanding a dataset is part of making predictions on the data.  Play around with the code cell below by changing the `batch_id` and `sample_id`. The `batch_id` is the id for a batch (1-5). The `sample_id` is the id for a image and label pair in the batch.\n",
    "\n",
    "Ask yourself \"What are all possible labels?\", \"What is the range of values for the image data?\", \"Are the labels in order or random?\".  Answers to questions like these will help you preprocess the data and end up with better predictions."
   ]
  },
  {
   "cell_type": "code",
   "execution_count": 2,
   "metadata": {
    "ExecuteTime": {
     "end_time": "2017-08-31T14:40:17.475398Z",
     "start_time": "2017-08-31T14:40:16.441206Z"
    },
    "hidden": true
   },
   "outputs": [
    {
     "name": "stdout",
     "output_type": "stream",
     "text": [
      "\n",
      "Stats of batch 1:\n",
      "Samples: 10000\n",
      "Label Counts: {0: 1005, 1: 974, 2: 1032, 3: 1016, 4: 999, 5: 937, 6: 1030, 7: 1001, 8: 1025, 9: 981}\n",
      "First 20 Labels: [6, 9, 9, 4, 1, 1, 2, 7, 8, 3, 4, 7, 7, 2, 9, 9, 9, 3, 2, 6]\n",
      "\n",
      "Example of Image 5:\n",
      "Image - Min Value: 0 Max Value: 252\n",
      "Image - Shape: (32, 32, 3)\n",
      "Label - Label Id: 1 Name: automobile\n"
     ]
    },
    {
     "data": {
      "image/png": "[encoded data removed]",
      "text/plain": [
       "<matplotlib.figure.Figure at 0x7f3efa118940>"
      ]
     },
     "metadata": {
      "image/png": {
       "height": 250,
       "width": 253
      }
     },
     "output_type": "display_data"
    }
   ],
   "source": [
    "%matplotlib inline\n",
    "%config InlineBackend.figure_format = 'retina'\n",
    "\n",
    "import helper\n",
    "import numpy as np\n",
    "\n",
    "# Explore the dataset\n",
    "batch_id = 1\n",
    "sample_id = 5\n",
    "helper.display_stats(cifar10_dataset_folder_path, batch_id, sample_id)"
   ]
  },
  {
   "cell_type": "markdown",
   "metadata": {
    "hidden": true
   },
   "source": [
    "## Implement Preprocess Functions\n",
    "### Normalize\n",
    "In the cell below, implement the `normalize` function to take in image data, `x`, and return it as a normalized Numpy array. The values should be in the range of 0 to 1, inclusive.  The return object should be the same shape as `x`."
   ]
  },
  {
   "cell_type": "code",
   "execution_count": 3,
   "metadata": {
    "ExecuteTime": {
     "end_time": "2017-08-31T14:40:17.513862Z",
     "start_time": "2017-08-31T14:40:17.476682Z"
    },
    "hidden": true
   },
   "outputs": [
    {
     "name": "stdout",
     "output_type": "stream",
     "text": [
      "Tests Passed\n"
     ]
    }
   ],
   "source": [
    "def normalize(x):\n",
    "    \"\"\"\n",
    "    Normalize a list of sample image data in the range of 0 to 1\n",
    "    : x: List of image data.  The image shape is (32, 32, 3)\n",
    "    : return: Numpy array of normalize data\n",
    "    \"\"\"\n",
    "#     return x/255.\n",
    "    return (x-x.min(axis=(0,1,2)))/(x.max(axis=(0,1,2)) - x.min(axis=(0,1,2)))\n",
    "\n",
    "\n",
    "\"\"\"\n",
    "DON'T MODIFY ANYTHING IN THIS CELL THAT IS BELOW THIS LINE\n",
    "\"\"\"\n",
    "tests.test_normalize(normalize)"
   ]
  },
  {
   "cell_type": "markdown",
   "metadata": {
    "hidden": true
   },
   "source": [
    "### One-hot encode\n",
    "Just like the previous code cell, you'll be implementing a function for preprocessing.  This time, you'll implement the `one_hot_encode` function. The input, `x`, are a list of labels.  Implement the function to return the list of labels as One-Hot encoded Numpy array.  The possible values for labels are 0 to 9. The one-hot encoding function should return the same encoding for each value between each call to `one_hot_encode`.  Make sure to save the map of encodings outside the function.\n",
    "\n",
    "Hint: Don't reinvent the wheel."
   ]
  },
  {
   "cell_type": "code",
   "execution_count": 4,
   "metadata": {
    "ExecuteTime": {
     "end_time": "2017-08-31T14:40:20.739063Z",
     "start_time": "2017-08-31T14:40:20.660744Z"
    },
    "hidden": true
   },
   "outputs": [
    {
     "name": "stdout",
     "output_type": "stream",
     "text": [
      "Tests Passed\n"
     ]
    }
   ],
   "source": [
    "def one_hot_encode(x):\n",
    "    \"\"\"\n",
    "    One hot encode a list of sample labels. Return a one-hot encoded vector for each label.\n",
    "    : x: List of sample Labels\n",
    "    : return: Numpy array of one-hot encoded labels\n",
    "    \"\"\"\n",
    "    one_hot = np.zeros((len(x), 10))\n",
    "    for j in range(len(x)):\n",
    "        one_hot[j, x[j]] = 1\n",
    "    return one_hot\n",
    "\n",
    "\"\"\"\n",
    "DON'T MODIFY ANYTHING IN THIS CELL THAT IS BELOW THIS LINE\n",
    "\"\"\"\n",
    "tests.test_one_hot_encode(one_hot_encode)"
   ]
  },
  {
   "cell_type": "markdown",
   "metadata": {
    "hidden": true
   },
   "source": [
    "### Randomize Data\n",
    "As you saw from exploring the data above, the order of the samples are randomized.  It doesn't hurt to randomize it again, but you don't need to for this dataset."
   ]
  },
  {
   "cell_type": "markdown",
   "metadata": {
    "hidden": true
   },
   "source": [
    "## Preprocess all the data and save it\n",
    "Running the code cell below will preprocess all the CIFAR-10 data and save it to file. The code below also uses 10% of the training data for validation."
   ]
  },
  {
   "cell_type": "code",
   "execution_count": 5,
   "metadata": {
    "ExecuteTime": {
     "end_time": "2017-08-31T14:40:26.720671Z",
     "start_time": "2017-08-31T14:40:23.226077Z"
    },
    "hidden": true
   },
   "outputs": [],
   "source": [
    "\"\"\"\n",
    "DON'T MODIFY ANYTHING IN THIS CELL\n",
    "\"\"\"\n",
    "# Preprocess Training, Validation, and Testing Data\n",
    "helper.preprocess_and_save_data(cifar10_dataset_folder_path, normalize, one_hot_encode)"
   ]
  },
  {
   "cell_type": "markdown",
   "metadata": {},
   "source": [
    "# Check Point\n",
    "This is your first checkpoint.  If you ever decide to come back to this notebook or have to restart the notebook, you can start from here.  The preprocessed data has been saved to disk."
   ]
  },
  {
   "cell_type": "code",
   "execution_count": 7,
   "metadata": {
    "ExecuteTime": {
     "end_time": "2017-08-31T14:40:56.780856Z",
     "start_time": "2017-08-31T14:40:56.698958Z"
    },
    "collapsed": true
   },
   "outputs": [],
   "source": [
    "\"\"\"\n",
    "DON'T MODIFY ANYTHING IN THIS CELL\n",
    "\"\"\"\n",
    "import pickle\n",
    "import problem_unittests as tests\n",
    "import helper\n",
    "\n",
    "# Load the Preprocessed Validation data\n",
    "valid_features, valid_labels = pickle.load(open('preprocess_validation.p', mode='rb'))"
   ]
  },
  {
   "cell_type": "markdown",
   "metadata": {},
   "source": [
    "## Build the network\n",
    "For the neural network, you'll build each layer into a function.  Most of the code you've seen has been outside of functions. To test your code more thoroughly, we require that you put each layer in a function.  This allows us to give you better feedback and test for simple mistakes using our unittests before you submit your project.\n",
    "\n",
    ">**Note:** If you're finding it hard to dedicate enough time for this course each week, we've provided a small shortcut to this part of the project. In the next couple of problems, you'll have the option to use classes from the [TensorFlow Layers](https://www.tensorflow.org/api_docs/python/tf/layers) or [TensorFlow Layers (contrib)](https://www.tensorflow.org/api_guides/python/contrib.layers) packages to build each layer, except the layers you build in the \"Convolutional and Max Pooling Layer\" section.  TF Layers is similar to Keras's and TFLearn's abstraction to layers, so it's easy to pickup.\n",
    "\n",
    ">However, if you would like to get the most out of this course, try to solve all the problems _without_ using anything from the TF Layers packages. You **can** still use classes from other packages that happen to have the same name as ones you find in TF Layers! For example, instead of using the TF Layers version of the `conv2d` class, [tf.layers.conv2d](https://www.tensorflow.org/api_docs/python/tf/layers/conv2d), you would want to use the TF Neural Network version of `conv2d`, [tf.nn.conv2d](https://www.tensorflow.org/api_docs/python/tf/nn/conv2d). \n",
    "\n",
    "Let's begin!\n",
    "\n",
    "### Input\n",
    "The neural network needs to read the image data, one-hot encoded labels, and dropout keep probability. Implement the following functions\n",
    "* Implement `neural_net_image_input`\n",
    " * Return a [TF Placeholder](https://www.tensorflow.org/api_docs/python/tf/placeholder)\n",
    " * Set the shape using `image_shape` with batch size set to `None`.\n",
    " * Name the TensorFlow placeholder \"x\" using the TensorFlow `name` parameter in the [TF Placeholder](https://www.tensorflow.org/api_docs/python/tf/placeholder).\n",
    "* Implement `neural_net_label_input`\n",
    " * Return a [TF Placeholder](https://www.tensorflow.org/api_docs/python/tf/placeholder)\n",
    " * Set the shape using `n_classes` with batch size set to `None`.\n",
    " * Name the TensorFlow placeholder \"y\" using the TensorFlow `name` parameter in the [TF Placeholder](https://www.tensorflow.org/api_docs/python/tf/placeholder).\n",
    "* Implement `neural_net_keep_prob_input`\n",
    " * Return a [TF Placeholder](https://www.tensorflow.org/api_docs/python/tf/placeholder) for dropout keep probability.\n",
    " * Name the TensorFlow placeholder \"keep_prob\" using the TensorFlow `name` parameter in the [TF Placeholder](https://www.tensorflow.org/api_docs/python/tf/placeholder).\n",
    "\n",
    "These names will be used at the end of the project to load your saved model.\n",
    "\n",
    "Note: `None` for shapes in TensorFlow allow for a dynamic size."
   ]
  },
  {
   "cell_type": "code",
   "execution_count": 10,
   "metadata": {
    "ExecuteTime": {
     "end_time": "2017-08-31T14:45:00.541452Z",
     "start_time": "2017-08-31T14:45:00.519343Z"
    }
   },
   "outputs": [
    {
     "name": "stdout",
     "output_type": "stream",
     "text": [
      "Image Input Tests Passed.\n",
      "Label Input Tests Passed.\n",
      "Keep Prob Tests Passed.\n"
     ]
    }
   ],
   "source": [
    "import tensorflow as tf\n",
    "\n",
    "def neural_net_image_input(image_shape):\n",
    "    \"\"\"\n",
    "    Return a Tensor for a batch of image input\n",
    "    : image_shape: Shape of the images\n",
    "    : return: Tensor for image input.\n",
    "    \"\"\"\n",
    "    return tf.placeholder(tf.float32, shape=(None,) + image_shape, name=\"x\")\n",
    "\n",
    "\n",
    "def neural_net_label_input(n_classes):\n",
    "    \"\"\"\n",
    "    Return a Tensor for a batch of label input\n",
    "    : n_classes: Number of classes\n",
    "    : return: Tensor for label input.\n",
    "    \"\"\"\n",
    "    return tf.placeholder(tf.int8, shape=(None, n_classes), name=\"y\")\n",
    "\n",
    "\n",
    "def neural_net_keep_prob_input():\n",
    "    \"\"\"\n",
    "    Return a Tensor for keep probability\n",
    "    : return: Tensor for keep probability.\n",
    "    \"\"\"\n",
    "    return tf.placeholder(tf.float32, name=\"keep_prob\")\n",
    "\n",
    "\n",
    "\"\"\"\n",
    "DON'T MODIFY ANYTHING IN THIS CELL THAT IS BELOW THIS LINE\n",
    "\"\"\"\n",
    "tf.reset_default_graph()\n",
    "tests.test_nn_image_inputs(neural_net_image_input)\n",
    "tests.test_nn_label_inputs(neural_net_label_input)\n",
    "tests.test_nn_keep_prob_inputs(neural_net_keep_prob_input)"
   ]
  },
  {
   "cell_type": "markdown",
   "metadata": {},
   "source": [
    "### Convolution and Max Pooling Layer\n",
    "Convolution layers have a lot of success with images. For this code cell, you should implement the function `conv2d_maxpool` to apply convolution then max pooling:\n",
    "* Create the weight and bias using `conv_ksize`, `conv_num_outputs` and the shape of `x_tensor`.\n",
    "* Apply a convolution to `x_tensor` using weight and `conv_strides`.\n",
    " * We recommend you use same padding, but you're welcome to use any padding.\n",
    "* Add bias\n",
    "* Add a nonlinear activation to the convolution.\n",
    "* Apply Max Pooling using `pool_ksize` and `pool_strides`.\n",
    " * We recommend you use same padding, but you're welcome to use any padding.\n",
    "\n",
    "**Note:** You **can't** use [TensorFlow Layers](https://www.tensorflow.org/api_docs/python/tf/layers) or [TensorFlow Layers (contrib)](https://www.tensorflow.org/api_guides/python/contrib.layers) for **this** layer, but you can still use TensorFlow's [Neural Network](https://www.tensorflow.org/api_docs/python/tf/nn) package. You may still use the shortcut option for all the **other** layers."
   ]
  },
  {
   "cell_type": "code",
   "execution_count": 13,
   "metadata": {
    "ExecuteTime": {
     "end_time": "2017-08-31T14:55:43.798053Z",
     "start_time": "2017-08-31T14:55:43.794460Z"
    },
    "collapsed": true
   },
   "outputs": [],
   "source": [
    "import pdb"
   ]
  },
  {
   "cell_type": "code",
   "execution_count": 222,
   "metadata": {
    "ExecuteTime": {
     "end_time": "2017-08-31T16:59:35.412023Z",
     "start_time": "2017-08-31T16:59:35.361654Z"
    }
   },
   "outputs": [
    {
     "name": "stdout",
     "output_type": "stream",
     "text": [
      "Tests Passed\n"
     ]
    }
   ],
   "source": [
    "def conv2d_maxpool(x_tensor, conv_num_outputs, conv_ksize, conv_strides, pool_ksize, pool_strides):\n",
    "    \"\"\"\n",
    "    Apply convolution then max pooling to x_tensor\n",
    "    :param x_tensor: TensorFlow Tensor\n",
    "    :param conv_num_outputs: Number of outputs for the convolutional layer\n",
    "    :param conv_ksize: kernal size 2-D Tuple for the convolutional layer\n",
    "    :param conv_strides: Stride 2-D Tuple for convolution\n",
    "    :param pool_ksize: kernal size 2-D Tuple for pool\n",
    "    :param pool_strides: Stride 2-D Tuple for pool\n",
    "    : return: A tensor that represents convolution and max pooling of x_tensor\n",
    "    \"\"\"\n",
    "    # SHORT\n",
    "#     conv2d = tf.layers.conv2d(x_tensor, conv_num_outputs, conv_ksize, conv_strides, padding=\"SAME\", activation=tf.nn.relu,\n",
    "#                               kernel_initializer=tf.contrib.layers.xavier_initializer_conv2d(uniform=False))\n",
    "#     return tf.layers.max_pooling2d(conv2d, pool_ksize, pool_strides, padding=\"same\")\n",
    "\n",
    "    # LONG\n",
    "    shapes = x_tensor.get_shape().as_list()\n",
    "    receptive_field = conv_ksize[0] * conv_ksize[1]\n",
    "    fan_in = shapes[-1] * receptive_field\n",
    "    fan_out = conv_num_outputs * receptive_field\n",
    "    xavier_std = np.sqrt(2/(fan_in+fan_out))\n",
    "    he_std = np.sqrt(2/fan_in)\n",
    "    weight = tf.Variable(tf.truncated_normal([conv_ksize[0], conv_ksize[1], shapes[-1], conv_num_outputs], mean=0.0, stddev=he_std))\n",
    "    bias = tf.Variable(tf.zeros(conv_num_outputs))\n",
    "    conv2d = tf.nn.conv2d(x_tensor, weight, strides=[1, conv_strides[0], conv_strides[1], 1], padding=\"SAME\")\n",
    "    conv2d = tf.nn.bias_add(conv2d, bias)\n",
    "    conv2d = tf.nn.relu(conv2d)\n",
    "    maxpool = tf.nn.max_pool(conv2d, ksize=[1, pool_ksize[0], pool_ksize[1], 1], strides=[1, pool_strides[0], pool_strides[1], 1], padding=\"SAME\")\n",
    "    return maxpool\n",
    "    \n",
    "\n",
    "\n",
    "\"\"\"\n",
    "DON'T MODIFY ANYTHING IN THIS CELL THAT IS BELOW THIS LINE\n",
    "\"\"\"\n",
    "tests.test_con_pool(conv2d_maxpool)"
   ]
  },
  {
   "cell_type": "markdown",
   "metadata": {},
   "source": [
    "### Flatten Layer\n",
    "Implement the `flatten` function to change the dimension of `x_tensor` from a 4-D tensor to a 2-D tensor.  The output should be the shape (*Batch Size*, *Flattened Image Size*). Shortcut option: you can use classes from the [TensorFlow Layers](https://www.tensorflow.org/api_docs/python/tf/layers) or [TensorFlow Layers (contrib)](https://www.tensorflow.org/api_guides/python/contrib.layers) packages for this layer. For more of a challenge, only use other TensorFlow packages."
   ]
  },
  {
   "cell_type": "code",
   "execution_count": 223,
   "metadata": {
    "ExecuteTime": {
     "end_time": "2017-08-31T16:59:35.674612Z",
     "start_time": "2017-08-31T16:59:35.668070Z"
    }
   },
   "outputs": [
    {
     "name": "stdout",
     "output_type": "stream",
     "text": [
      "Tests Passed\n"
     ]
    }
   ],
   "source": [
    "def flatten(x_tensor):\n",
    "    \"\"\"\n",
    "    Flatten x_tensor to (Batch Size, Flattened Image Size)\n",
    "    : x_tensor: A tensor of size (Batch Size, ...), where ... are the image dimensions.\n",
    "    : return: A tensor of size (Batch Size, Flattened Image Size).\n",
    "    \"\"\"\n",
    "#     return tf.contrib.keras.layers.Flatten()(x_tensor)\n",
    "#     return tf.contrib.layers.flatten(x_tensor)\n",
    "    shapes = x_tensor.get_shape().as_list()\n",
    "    return tf.reshape(x_tensor, [-1, shapes[1]*shapes[2]*shapes[3]])\n",
    "\n",
    "\n",
    "\"\"\"\n",
    "DON'T MODIFY ANYTHING IN THIS CELL THAT IS BELOW THIS LINE\n",
    "\"\"\"\n",
    "tests.test_flatten(flatten)"
   ]
  },
  {
   "cell_type": "markdown",
   "metadata": {},
   "source": [
    "### Fully-Connected Layer\n",
    "Implement the `fully_conn` function to apply a fully connected layer to `x_tensor` with the shape (*Batch Size*, *num_outputs*). Shortcut option: you can use classes from the [TensorFlow Layers](https://www.tensorflow.org/api_docs/python/tf/layers) or [TensorFlow Layers (contrib)](https://www.tensorflow.org/api_guides/python/contrib.layers) packages for this layer. For more of a challenge, only use other TensorFlow packages."
   ]
  },
  {
   "cell_type": "code",
   "execution_count": 224,
   "metadata": {
    "ExecuteTime": {
     "end_time": "2017-08-31T16:59:36.060028Z",
     "start_time": "2017-08-31T16:59:36.043998Z"
    }
   },
   "outputs": [
    {
     "name": "stdout",
     "output_type": "stream",
     "text": [
      "Tests Passed\n"
     ]
    }
   ],
   "source": [
    "def fully_conn(x_tensor, num_outputs):\n",
    "    \"\"\"\n",
    "    Apply a fully connected layer to x_tensor using weight and bias\n",
    "    : x_tensor: A 2-D tensor where the first dimension is batch size.\n",
    "    : num_outputs: The number of output that the new tensor should be.\n",
    "    : return: A 2-D tensor where the second dimension is num_outputs.\n",
    "    \"\"\"\n",
    "    shapes = x_tensor.get_shape().as_list()\n",
    "    fan_in = shapes[1]\n",
    "    fan_out = num_outputs\n",
    "    xavier_std = np.sqrt(2/(fan_in+fan_out))\n",
    "    he_std = np.sqrt(2/fan_in)\n",
    "    weight = tf.Variable(tf.truncated_normal([fan_in, fan_out], mean=0.0, stddev=he_std))\n",
    "    bias = tf.Variable(tf.zeros(fan_out))\n",
    "    return tf.nn.relu(tf.add(tf.matmul(x_tensor, weight), bias))\n",
    "    \n",
    "    # SHORT\n",
    "#     he_init = tf.contrib.layers.variance_scaling_initializer(factor=2.0, mode=\"FAN_IN\")\n",
    "#     xavier_init = tf.contrib.layers.variance_scaling_initializer(factor=2.0, mode=\"FAN_AVG\")\n",
    "#     return tf.layers.dense(x_tensor, num_outputs, activation=tf.nn.relu, kernel_initializer=he_init)\n",
    "\n",
    "\n",
    "\n",
    "\"\"\"\n",
    "DON'T MODIFY ANYTHING IN THIS CELL THAT IS BELOW THIS LINE\n",
    "\"\"\"\n",
    "tests.test_fully_conn(fully_conn)"
   ]
  },
  {
   "cell_type": "markdown",
   "metadata": {},
   "source": [
    "### Output Layer\n",
    "Implement the `output` function to apply a fully connected layer to `x_tensor` with the shape (*Batch Size*, *num_outputs*). Shortcut option: you can use classes from the [TensorFlow Layers](https://www.tensorflow.org/api_docs/python/tf/layers) or [TensorFlow Layers (contrib)](https://www.tensorflow.org/api_guides/python/contrib.layers) packages for this layer. For more of a challenge, only use other TensorFlow packages.\n",
    "\n",
    "**Note:** Activation, softmax, or cross entropy should **not** be applied to this."
   ]
  },
  {
   "cell_type": "code",
   "execution_count": 225,
   "metadata": {
    "ExecuteTime": {
     "end_time": "2017-08-31T16:59:36.378674Z",
     "start_time": "2017-08-31T16:59:36.364493Z"
    }
   },
   "outputs": [
    {
     "name": "stdout",
     "output_type": "stream",
     "text": [
      "Tests Passed\n"
     ]
    }
   ],
   "source": [
    "def output(x_tensor, num_outputs):\n",
    "    \"\"\"\n",
    "    Apply a output layer to x_tensor using weight and bias\n",
    "    : x_tensor: A 2-D tensor where the first dimension is batch size.\n",
    "    : num_outputs: The number of output that the new tensor should be.\n",
    "    : return: A 2-D tensor where the second dimension is num_outputs.\n",
    "    \"\"\"\n",
    "    shapes = x_tensor.get_shape().as_list()\n",
    "    fan_in = shapes[1]\n",
    "    fan_out = num_outputs\n",
    "    xavier_std = np.sqrt(2/(fan_in+fan_out))\n",
    "    he_std = np.sqrt(2/fan_in)\n",
    "    weight = tf.Variable(tf.random_normal([fan_in, fan_out], mean=0.0, stddev=xavier_std))\n",
    "    bias = tf.Variable(tf.zeros(fan_out))\n",
    "    return tf.add(tf.matmul(x_tensor, weight), bias)\n",
    "#     return tf.layers.dense(x_tensor, num_outputs, kernel_initializer=tf.contrib.layers.xavier_initializer(uniform=False))\n",
    "\n",
    "\n",
    "\"\"\"\n",
    "DON'T MODIFY ANYTHING IN THIS CELL THAT IS BELOW THIS LINE\n",
    "\"\"\"\n",
    "tests.test_output(output)"
   ]
  },
  {
   "cell_type": "markdown",
   "metadata": {},
   "source": [
    "### Create Convolutional Model\n",
    "Implement the function `conv_net` to create a convolutional neural network model. The function takes in a batch of images, `x`, and outputs logits.  Use the layers you created above to create this model:\n",
    "\n",
    "* Apply 1, 2, or 3 Convolution and Max Pool layers\n",
    "* Apply a Flatten Layer\n",
    "* Apply 1, 2, or 3 Fully Connected Layers\n",
    "* Apply an Output Layer\n",
    "* Return the output\n",
    "* Apply [TensorFlow's Dropout](https://www.tensorflow.org/api_docs/python/tf/nn/dropout) to one or more layers in the model using `keep_prob`. "
   ]
  },
  {
   "cell_type": "code",
   "execution_count": 226,
   "metadata": {
    "ExecuteTime": {
     "end_time": "2017-08-31T16:59:36.946412Z",
     "start_time": "2017-08-31T16:59:36.677765Z"
    }
   },
   "outputs": [
    {
     "name": "stdout",
     "output_type": "stream",
     "text": [
      "Neural Network Built!\n"
     ]
    }
   ],
   "source": [
    "def conv_net(x, keep_prob):\n",
    "    \"\"\"\n",
    "    Create a convolutional neural network model\n",
    "    : x: Placeholder tensor that holds image data.\n",
    "    : keep_prob: Placeholder tensor that hold dropout keep probability.\n",
    "    : return: Tensor that represents logits\n",
    "    \"\"\"\n",
    "    # TODO: Apply 1, 2, or 3 Convolution and Max Pool layers\n",
    "    #    Play around with different number of outputs, kernel size and stride\n",
    "    # Function Definition from Above:\n",
    "    #    conv2d_maxpool(x_tensor, conv_num_outputs, conv_ksize, conv_strides, pool_ksize, pool_strides)\n",
    "    num_feat = 32\n",
    "    x = conv2d_maxpool(x, num_feat, (3,3), (1,1), (2,2), (2,2))\n",
    "    x = conv2d_maxpool(x, num_feat*2, (3,3), (1,1), (2,2), (2,2))\n",
    "    x = conv2d_maxpool(x, num_feat*4, (3,3), (1,1), (2,2), (2,2))\n",
    "    \n",
    "#     x = conv2d_maxpool(x, num_feat, (5,5), (1,1), (2,2), (2,2))\n",
    "#     x = conv2d_maxpool(x, num_feat*2, (5,5), (1,1), (2,2), (2,2))\n",
    "#     x = conv2d_maxpool(x, num_feat*4, (3,3), (1,1), (2,2), (2,2))\n",
    "   \n",
    "    # TODO: Apply a Flatten Layer\n",
    "    # Function Definition from Above:\n",
    "    #   flatten(x_tensor)\n",
    "    x = flatten(x)\n",
    "\n",
    "    # TODO: Apply 1, 2, or 3 Fully Connected Layers\n",
    "    #    Play around with different number of outputs\n",
    "    # Function Definition from Above:\n",
    "    #   fully_conn(x_tensor, num_outputs)\n",
    "#     x = tf.nn.dropout(x, keep_prob)\n",
    "    x = fully_conn(x, 128)\n",
    "    x = tf.nn.dropout(x, keep_prob)\n",
    "    x = fully_conn(x, 128)\n",
    "    x = tf.nn.dropout(x, keep_prob)\n",
    "    \n",
    "    # TODO: Apply an Output Layer\n",
    "    #    Set this to the number of classes\n",
    "    # Function Definition from Above:\n",
    "    #   output(x_tensor, num_outputs)\n",
    "    x = output(x, 10)\n",
    "    \n",
    "    # TODO: return output\n",
    "    return x\n",
    "\n",
    "\n",
    "\"\"\"\n",
    "DON'T MODIFY ANYTHING IN THIS CELL THAT IS BELOW THIS LINE\n",
    "\"\"\"\n",
    "\n",
    "##############################\n",
    "## Build the Neural Network ##\n",
    "##############################\n",
    "\n",
    "# Remove previous weights, bias, inputs, etc..\n",
    "tf.reset_default_graph()\n",
    "\n",
    "# Inputs\n",
    "x = neural_net_image_input((32, 32, 3))\n",
    "y = neural_net_label_input(10)\n",
    "keep_prob = neural_net_keep_prob_input()\n",
    "\n",
    "# Model\n",
    "logits = conv_net(x, keep_prob)\n",
    "\n",
    "# Name logits Tensor, so that is can be loaded from disk after training\n",
    "logits = tf.identity(logits, name='logits')\n",
    "\n",
    "# Loss and Optimizer\n",
    "cost = tf.reduce_mean(tf.nn.softmax_cross_entropy_with_logits(logits=logits, labels=y))\n",
    "optimizer = tf.train.AdamOptimizer().minimize(cost)\n",
    "\n",
    "# Accuracy\n",
    "correct_pred = tf.equal(tf.argmax(logits, 1), tf.argmax(y, 1))\n",
    "accuracy = tf.reduce_mean(tf.cast(correct_pred, tf.float32), name='accuracy')\n",
    "\n",
    "tests.test_conv_net(conv_net)"
   ]
  },
  {
   "cell_type": "markdown",
   "metadata": {},
   "source": [
    "## Train the Neural Network"
   ]
  },
  {
   "cell_type": "markdown",
   "metadata": {},
   "source": [
    "### Single Optimization\n",
    "Implement the function `train_neural_network` to do a single optimization.  The optimization should use `optimizer` to optimize in `session` with a `feed_dict` of the following:\n",
    "* `x` for image input\n",
    "* `y` for labels\n",
    "* `keep_prob` for keep probability for dropout\n",
    "\n",
    "This function will be called for each batch, so `tf.global_variables_initializer()` has already been called.\n",
    "\n",
    "Note: Nothing needs to be returned. This function is only optimizing the neural network."
   ]
  },
  {
   "cell_type": "code",
   "execution_count": 227,
   "metadata": {
    "ExecuteTime": {
     "end_time": "2017-08-31T16:59:37.267236Z",
     "start_time": "2017-08-31T16:59:37.251906Z"
    }
   },
   "outputs": [
    {
     "name": "stdout",
     "output_type": "stream",
     "text": [
      "Tests Passed\n"
     ]
    }
   ],
   "source": [
    "def train_neural_network(session, optimizer, keep_probability, feature_batch, label_batch):\n",
    "    \"\"\"\n",
    "    Optimize the session on a batch of images and labels\n",
    "    : session: Current TensorFlow session\n",
    "    : optimizer: TensorFlow optimizer function\n",
    "    : keep_probability: keep probability\n",
    "    : feature_batch: Batch of Numpy image data\n",
    "    : label_batch: Batch of Numpy label data\n",
    "    \"\"\"\n",
    "    session.run(optimizer, feed_dict={x: feature_batch, y: label_batch, keep_prob: keep_probability})\n",
    "\n",
    "\n",
    "\"\"\"\n",
    "DON'T MODIFY ANYTHING IN THIS CELL THAT IS BELOW THIS LINE\n",
    "\"\"\"\n",
    "tests.test_train_nn(train_neural_network)"
   ]
  },
  {
   "cell_type": "markdown",
   "metadata": {},
   "source": [
    "### Show Stats\n",
    "Implement the function `print_stats` to print loss and validation accuracy.  Use the global variables `valid_features` and `valid_labels` to calculate validation accuracy.  Use a keep probability of `1.0` to calculate the loss and validation accuracy."
   ]
  },
  {
   "cell_type": "code",
   "execution_count": 228,
   "metadata": {
    "ExecuteTime": {
     "end_time": "2017-08-31T16:59:37.641861Z",
     "start_time": "2017-08-31T16:59:37.636646Z"
    }
   },
   "outputs": [],
   "source": [
    "def print_stats(session, feature_batch, label_batch, cost, accuracy):\n",
    "    \"\"\"\n",
    "    Print information about loss and validation accuracy\n",
    "    : session: Current TensorFlow session\n",
    "    : feature_batch: Batch of Numpy image data\n",
    "    : label_batch: Batch of Numpy label data\n",
    "    : cost: TensorFlow cost function\n",
    "    : accuracy: TensorFlow accuracy function\n",
    "    \"\"\"\n",
    "    loss = session.run(cost, feed_dict={x: feature_batch, y: label_batch, keep_prob: 1})\n",
    "    acc_val = session.run(accuracy, feed_dict={x: valid_features, y: valid_labels, keep_prob: 1})\n",
    "    print(\"Loss: {:.3f}, Validation Accuracy: {:.2f}\".format(loss, 100*acc_val))"
   ]
  },
  {
   "cell_type": "markdown",
   "metadata": {},
   "source": [
    "### Hyperparameters\n",
    "Tune the following parameters:\n",
    "* Set `epochs` to the number of iterations until the network stops learning or start overfitting\n",
    "* Set `batch_size` to the highest number that your machine has memory for.  Most people set them to common sizes of memory:\n",
    " * 64\n",
    " * 128\n",
    " * 256\n",
    " * ...\n",
    "* Set `keep_probability` to the probability of keeping a node using dropout"
   ]
  },
  {
   "cell_type": "code",
   "execution_count": 235,
   "metadata": {
    "ExecuteTime": {
     "end_time": "2017-08-31T17:05:02.985987Z",
     "start_time": "2017-08-31T17:05:02.979691Z"
    },
    "collapsed": true
   },
   "outputs": [],
   "source": [
    "# TODO: Tune Parameters\n",
    "epochs = 30\n",
    "batch_size = 32\n",
    "keep_probability = 0.6"
   ]
  },
  {
   "cell_type": "markdown",
   "metadata": {
    "heading_collapsed": true
   },
   "source": [
    "### Train on a Single CIFAR-10 Batch\n",
    "Instead of training the neural network on all the CIFAR-10 batches of data, let's use a single batch. This should save time while you iterate on the model to get a better accuracy.  Once the final validation accuracy is 50% or greater, run the model on all the data in the next section."
   ]
  },
  {
   "cell_type": "code",
   "execution_count": 232,
   "metadata": {
    "ExecuteTime": {
     "end_time": "2017-08-31T17:01:05.693050Z",
     "start_time": "2017-08-31T16:59:50.876799Z"
    },
    "hidden": true,
    "scrolled": false
   },
   "outputs": [
    {
     "name": "stdout",
     "output_type": "stream",
     "text": [
      "Checking the Training on a Single Batch...\n",
      "Epoch  1, CIFAR-10 Batch 1:  Loss: 2.030, Validation Accuracy: 26.60\n",
      "Epoch  2, CIFAR-10 Batch 1:  Loss: 1.750, Validation Accuracy: 35.16\n",
      "Epoch  3, CIFAR-10 Batch 1:  Loss: 1.492, Validation Accuracy: 45.22\n",
      "Epoch  4, CIFAR-10 Batch 1:  Loss: 1.300, Validation Accuracy: 42.86\n",
      "Epoch  5, CIFAR-10 Batch 1:  Loss: 1.109, Validation Accuracy: 50.18\n",
      "Epoch  6, CIFAR-10 Batch 1:  Loss: 1.093, Validation Accuracy: 53.66\n",
      "Epoch  7, CIFAR-10 Batch 1:  Loss: 1.082, Validation Accuracy: 53.08\n",
      "Epoch  8, CIFAR-10 Batch 1:  Loss: 0.910, Validation Accuracy: 56.10\n",
      "Epoch  9, CIFAR-10 Batch 1:  Loss: 0.719, Validation Accuracy: 54.82\n",
      "Epoch 10, CIFAR-10 Batch 1:  Loss: 0.626, Validation Accuracy: 57.14\n",
      "Epoch 11, CIFAR-10 Batch 1:  Loss: 0.703, Validation Accuracy: 57.54\n",
      "Epoch 12, CIFAR-10 Batch 1:  Loss: 0.490, Validation Accuracy: 58.30\n",
      "Epoch 13, CIFAR-10 Batch 1:  Loss: 0.310, Validation Accuracy: 59.88\n",
      "Epoch 14, CIFAR-10 Batch 1:  Loss: 0.213, Validation Accuracy: 59.84\n",
      "Epoch 15, CIFAR-10 Batch 1:  Loss: 0.121, Validation Accuracy: 61.60\n",
      "Epoch 16, CIFAR-10 Batch 1:  Loss: 0.219, Validation Accuracy: 60.38\n",
      "Epoch 17, CIFAR-10 Batch 1:  Loss: 0.103, Validation Accuracy: 59.44\n",
      "Epoch 18, CIFAR-10 Batch 1:  Loss: 0.066, Validation Accuracy: 60.48\n",
      "Epoch 19, CIFAR-10 Batch 1:  Loss: 0.032, Validation Accuracy: 60.56\n",
      "Epoch 20, CIFAR-10 Batch 1:  Loss: 0.029, Validation Accuracy: 61.74\n",
      "Epoch 21, CIFAR-10 Batch 1:  Loss: 0.018, Validation Accuracy: 61.30\n",
      "Epoch 22, CIFAR-10 Batch 1:  Loss: 0.031, Validation Accuracy: 62.54\n",
      "Epoch 23, CIFAR-10 Batch 1:  Loss: 0.011, Validation Accuracy: 61.12\n",
      "Epoch 24, CIFAR-10 Batch 1:  Loss: 0.008, Validation Accuracy: 61.66\n",
      "Epoch 25, CIFAR-10 Batch 1:  Loss: 0.010, Validation Accuracy: 61.00\n",
      "Epoch 26, CIFAR-10 Batch 1:  Loss: 0.007, Validation Accuracy: 61.96\n",
      "Epoch 27, CIFAR-10 Batch 1:  Loss: 0.006, Validation Accuracy: 60.38\n",
      "Epoch 28, CIFAR-10 Batch 1:  Loss: 0.007, Validation Accuracy: 62.06\n",
      "Epoch 29, CIFAR-10 Batch 1:  Loss: 0.001, Validation Accuracy: 60.88\n",
      "Epoch 30, CIFAR-10 Batch 1:  Loss: 0.006, Validation Accuracy: 60.06\n",
      "Epoch 31, CIFAR-10 Batch 1:  Loss: 0.006, Validation Accuracy: 60.86\n",
      "Epoch 32, CIFAR-10 Batch 1:  Loss: 0.003, Validation Accuracy: 60.48\n",
      "Epoch 33, CIFAR-10 Batch 1:  Loss: 0.001, Validation Accuracy: 60.20\n",
      "Epoch 34, CIFAR-10 Batch 1:  Loss: 0.005, Validation Accuracy: 61.16\n",
      "Epoch 35, CIFAR-10 Batch 1:  Loss: 0.002, Validation Accuracy: 61.02\n",
      "Epoch 36, CIFAR-10 Batch 1:  Loss: 0.009, Validation Accuracy: 60.06\n",
      "Epoch 37, CIFAR-10 Batch 1:  Loss: 0.006, Validation Accuracy: 61.12\n",
      "Epoch 38, CIFAR-10 Batch 1:  Loss: 0.001, Validation Accuracy: 61.72\n",
      "Epoch 39, CIFAR-10 Batch 1:  Loss: 0.001, Validation Accuracy: 60.70\n",
      "Epoch 40, CIFAR-10 Batch 1:  Loss: 0.002, Validation Accuracy: 61.30\n",
      "Epoch 41, CIFAR-10 Batch 1:  Loss: 0.002, Validation Accuracy: 61.20\n",
      "Epoch 42, CIFAR-10 Batch 1:  Loss: 0.000, Validation Accuracy: 61.28\n",
      "Epoch 43, CIFAR-10 Batch 1:  Loss: 0.000, Validation Accuracy: 61.86\n",
      "Epoch 44, CIFAR-10 Batch 1:  Loss: 0.001, Validation Accuracy: 61.76\n",
      "Epoch 45, CIFAR-10 Batch 1:  Loss: 0.001, Validation Accuracy: 61.22\n",
      "Epoch 46, CIFAR-10 Batch 1:  Loss: 0.001, Validation Accuracy: 60.78\n",
      "Epoch 47, CIFAR-10 Batch 1:  Loss: 0.000, Validation Accuracy: 61.74\n",
      "Epoch 48, CIFAR-10 Batch 1:  Loss: 0.002, Validation Accuracy: 62.14\n",
      "Epoch 49, CIFAR-10 Batch 1:  Loss: 0.001, Validation Accuracy: 62.06\n",
      "Epoch 50, CIFAR-10 Batch 1:  Loss: 0.000, Validation Accuracy: 61.96\n",
      "Epoch 51, CIFAR-10 Batch 1:  Loss: 0.000, Validation Accuracy: 61.80\n",
      "Epoch 52, CIFAR-10 Batch 1:  Loss: 0.000, Validation Accuracy: 62.30\n",
      "Epoch 53, CIFAR-10 Batch 1:  Loss: 0.001, Validation Accuracy: 61.36\n",
      "Epoch 54, CIFAR-10 Batch 1:  Loss: 0.000, Validation Accuracy: 62.32\n",
      "Epoch 55, CIFAR-10 Batch 1:  Loss: 0.000, Validation Accuracy: 60.70\n",
      "Epoch 56, CIFAR-10 Batch 1:  Loss: 0.001, Validation Accuracy: 61.94\n",
      "Epoch 57, CIFAR-10 Batch 1:  Loss: 0.003, Validation Accuracy: 61.72\n",
      "Epoch 58, CIFAR-10 Batch 1:  Loss: 0.010, Validation Accuracy: 62.80\n",
      "Epoch 59, CIFAR-10 Batch 1:  Loss: 0.001, Validation Accuracy: 61.74\n",
      "Epoch 60, CIFAR-10 Batch 1:  Loss: 0.004, Validation Accuracy: 61.94\n",
      "Epoch 61, CIFAR-10 Batch 1:  Loss: 0.001, Validation Accuracy: 63.00\n",
      "Epoch 62, CIFAR-10 Batch 1:  Loss: 0.008, Validation Accuracy: 61.60\n",
      "Epoch 63, CIFAR-10 Batch 1:  Loss: 0.000, Validation Accuracy: 62.12\n",
      "Epoch 64, CIFAR-10 Batch 1:  Loss: 0.001, Validation Accuracy: 63.20\n",
      "Epoch 65, CIFAR-10 Batch 1:  Loss: 0.001, Validation Accuracy: 62.62\n",
      "Epoch 66, CIFAR-10 Batch 1:  Loss: 0.000, Validation Accuracy: 62.24\n",
      "Epoch 67, CIFAR-10 Batch 1:  Loss: 0.011, Validation Accuracy: 62.10\n",
      "Epoch 68, CIFAR-10 Batch 1:  Loss: 0.009, Validation Accuracy: 58.92\n",
      "Epoch 69, CIFAR-10 Batch 1:  Loss: 0.001, Validation Accuracy: 61.94\n",
      "Epoch 70, CIFAR-10 Batch 1:  Loss: 0.003, Validation Accuracy: 61.22\n",
      "Epoch 71, CIFAR-10 Batch 1:  Loss: 0.000, Validation Accuracy: 61.02\n",
      "Epoch 72, CIFAR-10 Batch 1:  Loss: 0.003, Validation Accuracy: 62.76\n",
      "Epoch 73, CIFAR-10 Batch 1:  Loss: 0.001, Validation Accuracy: 61.58\n",
      "Epoch 74, CIFAR-10 Batch 1:  Loss: 0.000, Validation Accuracy: 61.84\n",
      "Epoch 75, CIFAR-10 Batch 1:  Loss: 0.000, Validation Accuracy: 61.24\n",
      "Epoch 76, CIFAR-10 Batch 1:  Loss: 0.000, Validation Accuracy: 62.36\n",
      "Epoch 77, CIFAR-10 Batch 1:  Loss: 0.000, Validation Accuracy: 61.46\n",
      "Epoch 78, CIFAR-10 Batch 1:  Loss: 0.001, Validation Accuracy: 61.28\n",
      "Epoch 79, CIFAR-10 Batch 1:  Loss: 0.000, Validation Accuracy: 61.04\n",
      "Epoch 80, CIFAR-10 Batch 1:  Loss: 0.000, Validation Accuracy: 62.42\n"
     ]
    },
    {
     "ename": "KeyboardInterrupt",
     "evalue": "",
     "output_type": "error",
     "traceback": [
      "\u001b[0;31m---------------------------------------------------------------------------\u001b[0m",
      "\u001b[0;31mKeyboardInterrupt\u001b[0m                         Traceback (most recent call last)",
      "\u001b[0;32m<ipython-input-232-0ebd1bbc35ad>\u001b[0m in \u001b[0;36m<module>\u001b[0;34m()\u001b[0m\n\u001b[1;32m     11\u001b[0m         \u001b[0mbatch_i\u001b[0m \u001b[0;34m=\u001b[0m \u001b[0;36m1\u001b[0m\u001b[0;34m\u001b[0m\u001b[0m\n\u001b[1;32m     12\u001b[0m         \u001b[0;32mfor\u001b[0m \u001b[0mbatch_features\u001b[0m\u001b[0;34m,\u001b[0m \u001b[0mbatch_labels\u001b[0m \u001b[0;32min\u001b[0m \u001b[0mhelper\u001b[0m\u001b[0;34m.\u001b[0m\u001b[0mload_preprocess_training_batch\u001b[0m\u001b[0;34m(\u001b[0m\u001b[0mbatch_i\u001b[0m\u001b[0;34m,\u001b[0m \u001b[0mbatch_size\u001b[0m\u001b[0;34m)\u001b[0m\u001b[0;34m:\u001b[0m\u001b[0;34m\u001b[0m\u001b[0m\n\u001b[0;32m---> 13\u001b[0;31m             \u001b[0mtrain_neural_network\u001b[0m\u001b[0;34m(\u001b[0m\u001b[0msess\u001b[0m\u001b[0;34m,\u001b[0m \u001b[0moptimizer\u001b[0m\u001b[0;34m,\u001b[0m \u001b[0mkeep_probability\u001b[0m\u001b[0;34m,\u001b[0m \u001b[0mbatch_features\u001b[0m\u001b[0;34m,\u001b[0m \u001b[0mbatch_labels\u001b[0m\u001b[0;34m)\u001b[0m\u001b[0;34m\u001b[0m\u001b[0m\n\u001b[0m\u001b[1;32m     14\u001b[0m         \u001b[0mprint\u001b[0m\u001b[0;34m(\u001b[0m\u001b[0;34m'Epoch {:>2}, CIFAR-10 Batch {}:  '\u001b[0m\u001b[0;34m.\u001b[0m\u001b[0mformat\u001b[0m\u001b[0;34m(\u001b[0m\u001b[0mepoch\u001b[0m \u001b[0;34m+\u001b[0m \u001b[0;36m1\u001b[0m\u001b[0;34m,\u001b[0m \u001b[0mbatch_i\u001b[0m\u001b[0;34m)\u001b[0m\u001b[0;34m,\u001b[0m \u001b[0mend\u001b[0m\u001b[0;34m=\u001b[0m\u001b[0;34m''\u001b[0m\u001b[0;34m)\u001b[0m\u001b[0;34m\u001b[0m\u001b[0m\n\u001b[1;32m     15\u001b[0m         \u001b[0mprint_stats\u001b[0m\u001b[0;34m(\u001b[0m\u001b[0msess\u001b[0m\u001b[0;34m,\u001b[0m \u001b[0mbatch_features\u001b[0m\u001b[0;34m,\u001b[0m \u001b[0mbatch_labels\u001b[0m\u001b[0;34m,\u001b[0m \u001b[0mcost\u001b[0m\u001b[0;34m,\u001b[0m \u001b[0maccuracy\u001b[0m\u001b[0;34m)\u001b[0m\u001b[0;34m\u001b[0m\u001b[0m\n",
      "\u001b[0;32m<ipython-input-227-d65622e36b57>\u001b[0m in \u001b[0;36mtrain_neural_network\u001b[0;34m(session, optimizer, keep_probability, feature_batch, label_batch)\u001b[0m\n\u001b[1;32m      8\u001b[0m     \u001b[0;34m:\u001b[0m \u001b[0mlabel_batch\u001b[0m\u001b[0;34m:\u001b[0m \u001b[0mBatch\u001b[0m \u001b[0mof\u001b[0m \u001b[0mNumpy\u001b[0m \u001b[0mlabel\u001b[0m \u001b[0mdata\u001b[0m\u001b[0;34m\u001b[0m\u001b[0m\n\u001b[1;32m      9\u001b[0m     \"\"\"\n\u001b[0;32m---> 10\u001b[0;31m     \u001b[0msession\u001b[0m\u001b[0;34m.\u001b[0m\u001b[0mrun\u001b[0m\u001b[0;34m(\u001b[0m\u001b[0moptimizer\u001b[0m\u001b[0;34m,\u001b[0m \u001b[0mfeed_dict\u001b[0m\u001b[0;34m=\u001b[0m\u001b[0;34m{\u001b[0m\u001b[0mx\u001b[0m\u001b[0;34m:\u001b[0m \u001b[0mfeature_batch\u001b[0m\u001b[0;34m,\u001b[0m \u001b[0my\u001b[0m\u001b[0;34m:\u001b[0m \u001b[0mlabel_batch\u001b[0m\u001b[0;34m,\u001b[0m \u001b[0mkeep_prob\u001b[0m\u001b[0;34m:\u001b[0m \u001b[0mkeep_probability\u001b[0m\u001b[0;34m}\u001b[0m\u001b[0;34m)\u001b[0m\u001b[0;34m\u001b[0m\u001b[0m\n\u001b[0m\u001b[1;32m     11\u001b[0m \u001b[0;34m\u001b[0m\u001b[0m\n\u001b[1;32m     12\u001b[0m \u001b[0;34m\u001b[0m\u001b[0m\n",
      "\u001b[0;32m/home/philip/anaconda3/lib/python3.6/site-packages/tensorflow/python/client/session.py\u001b[0m in \u001b[0;36mrun\u001b[0;34m(self, fetches, feed_dict, options, run_metadata)\u001b[0m\n\u001b[1;32m    787\u001b[0m     \u001b[0;32mtry\u001b[0m\u001b[0;34m:\u001b[0m\u001b[0;34m\u001b[0m\u001b[0m\n\u001b[1;32m    788\u001b[0m       result = self._run(None, fetches, feed_dict, options_ptr,\n\u001b[0;32m--> 789\u001b[0;31m                          run_metadata_ptr)\n\u001b[0m\u001b[1;32m    790\u001b[0m       \u001b[0;32mif\u001b[0m \u001b[0mrun_metadata\u001b[0m\u001b[0;34m:\u001b[0m\u001b[0;34m\u001b[0m\u001b[0m\n\u001b[1;32m    791\u001b[0m         \u001b[0mproto_data\u001b[0m \u001b[0;34m=\u001b[0m \u001b[0mtf_session\u001b[0m\u001b[0;34m.\u001b[0m\u001b[0mTF_GetBuffer\u001b[0m\u001b[0;34m(\u001b[0m\u001b[0mrun_metadata_ptr\u001b[0m\u001b[0;34m)\u001b[0m\u001b[0;34m\u001b[0m\u001b[0m\n",
      "\u001b[0;32m/home/philip/anaconda3/lib/python3.6/site-packages/tensorflow/python/client/session.py\u001b[0m in \u001b[0;36m_run\u001b[0;34m(self, handle, fetches, feed_dict, options, run_metadata)\u001b[0m\n\u001b[1;32m    995\u001b[0m     \u001b[0;32mif\u001b[0m \u001b[0mfinal_fetches\u001b[0m \u001b[0;32mor\u001b[0m \u001b[0mfinal_targets\u001b[0m\u001b[0;34m:\u001b[0m\u001b[0;34m\u001b[0m\u001b[0m\n\u001b[1;32m    996\u001b[0m       results = self._do_run(handle, final_targets, final_fetches,\n\u001b[0;32m--> 997\u001b[0;31m                              feed_dict_string, options, run_metadata)\n\u001b[0m\u001b[1;32m    998\u001b[0m     \u001b[0;32melse\u001b[0m\u001b[0;34m:\u001b[0m\u001b[0;34m\u001b[0m\u001b[0m\n\u001b[1;32m    999\u001b[0m       \u001b[0mresults\u001b[0m \u001b[0;34m=\u001b[0m \u001b[0;34m[\u001b[0m\u001b[0;34m]\u001b[0m\u001b[0;34m\u001b[0m\u001b[0m\n",
      "\u001b[0;32m/home/philip/anaconda3/lib/python3.6/site-packages/tensorflow/python/client/session.py\u001b[0m in \u001b[0;36m_do_run\u001b[0;34m(self, handle, target_list, fetch_list, feed_dict, options, run_metadata)\u001b[0m\n\u001b[1;32m   1130\u001b[0m     \u001b[0;32mif\u001b[0m \u001b[0mhandle\u001b[0m \u001b[0;32mis\u001b[0m \u001b[0;32mNone\u001b[0m\u001b[0;34m:\u001b[0m\u001b[0;34m\u001b[0m\u001b[0m\n\u001b[1;32m   1131\u001b[0m       return self._do_call(_run_fn, self._session, feed_dict, fetch_list,\n\u001b[0;32m-> 1132\u001b[0;31m                            target_list, options, run_metadata)\n\u001b[0m\u001b[1;32m   1133\u001b[0m     \u001b[0;32melse\u001b[0m\u001b[0;34m:\u001b[0m\u001b[0;34m\u001b[0m\u001b[0m\n\u001b[1;32m   1134\u001b[0m       return self._do_call(_prun_fn, self._session, handle, feed_dict,\n",
      "\u001b[0;32m/home/philip/anaconda3/lib/python3.6/site-packages/tensorflow/python/client/session.py\u001b[0m in \u001b[0;36m_do_call\u001b[0;34m(self, fn, *args)\u001b[0m\n\u001b[1;32m   1137\u001b[0m   \u001b[0;32mdef\u001b[0m \u001b[0m_do_call\u001b[0m\u001b[0;34m(\u001b[0m\u001b[0mself\u001b[0m\u001b[0;34m,\u001b[0m \u001b[0mfn\u001b[0m\u001b[0;34m,\u001b[0m \u001b[0;34m*\u001b[0m\u001b[0margs\u001b[0m\u001b[0;34m)\u001b[0m\u001b[0;34m:\u001b[0m\u001b[0;34m\u001b[0m\u001b[0m\n\u001b[1;32m   1138\u001b[0m     \u001b[0;32mtry\u001b[0m\u001b[0;34m:\u001b[0m\u001b[0;34m\u001b[0m\u001b[0m\n\u001b[0;32m-> 1139\u001b[0;31m       \u001b[0;32mreturn\u001b[0m \u001b[0mfn\u001b[0m\u001b[0;34m(\u001b[0m\u001b[0;34m*\u001b[0m\u001b[0margs\u001b[0m\u001b[0;34m)\u001b[0m\u001b[0;34m\u001b[0m\u001b[0m\n\u001b[0m\u001b[1;32m   1140\u001b[0m     \u001b[0;32mexcept\u001b[0m \u001b[0merrors\u001b[0m\u001b[0;34m.\u001b[0m\u001b[0mOpError\u001b[0m \u001b[0;32mas\u001b[0m \u001b[0me\u001b[0m\u001b[0;34m:\u001b[0m\u001b[0;34m\u001b[0m\u001b[0m\n\u001b[1;32m   1141\u001b[0m       \u001b[0mmessage\u001b[0m \u001b[0;34m=\u001b[0m \u001b[0mcompat\u001b[0m\u001b[0;34m.\u001b[0m\u001b[0mas_text\u001b[0m\u001b[0;34m(\u001b[0m\u001b[0me\u001b[0m\u001b[0;34m.\u001b[0m\u001b[0mmessage\u001b[0m\u001b[0;34m)\u001b[0m\u001b[0;34m\u001b[0m\u001b[0m\n",
      "\u001b[0;32m/home/philip/anaconda3/lib/python3.6/site-packages/tensorflow/python/client/session.py\u001b[0m in \u001b[0;36m_run_fn\u001b[0;34m(session, feed_dict, fetch_list, target_list, options, run_metadata)\u001b[0m\n\u001b[1;32m   1119\u001b[0m         return tf_session.TF_Run(session, options,\n\u001b[1;32m   1120\u001b[0m                                  \u001b[0mfeed_dict\u001b[0m\u001b[0;34m,\u001b[0m \u001b[0mfetch_list\u001b[0m\u001b[0;34m,\u001b[0m \u001b[0mtarget_list\u001b[0m\u001b[0;34m,\u001b[0m\u001b[0;34m\u001b[0m\u001b[0m\n\u001b[0;32m-> 1121\u001b[0;31m                                  status, run_metadata)\n\u001b[0m\u001b[1;32m   1122\u001b[0m \u001b[0;34m\u001b[0m\u001b[0m\n\u001b[1;32m   1123\u001b[0m     \u001b[0;32mdef\u001b[0m \u001b[0m_prun_fn\u001b[0m\u001b[0;34m(\u001b[0m\u001b[0msession\u001b[0m\u001b[0;34m,\u001b[0m \u001b[0mhandle\u001b[0m\u001b[0;34m,\u001b[0m \u001b[0mfeed_dict\u001b[0m\u001b[0;34m,\u001b[0m \u001b[0mfetch_list\u001b[0m\u001b[0;34m)\u001b[0m\u001b[0;34m:\u001b[0m\u001b[0;34m\u001b[0m\u001b[0m\n",
      "\u001b[0;31mKeyboardInterrupt\u001b[0m: "
     ]
    }
   ],
   "source": [
    "\"\"\"\n",
    "DON'T MODIFY ANYTHING IN THIS CELL\n",
    "\"\"\"\n",
    "print('Checking the Training on a Single Batch...')\n",
    "with tf.Session() as sess:\n",
    "    # Initializing the variables\n",
    "    sess.run(tf.global_variables_initializer())\n",
    "    \n",
    "    # Training cycle\n",
    "    for epoch in range(epochs):\n",
    "        batch_i = 1\n",
    "        for batch_features, batch_labels in helper.load_preprocess_training_batch(batch_i, batch_size):\n",
    "            train_neural_network(sess, optimizer, keep_probability, batch_features, batch_labels)\n",
    "        print('Epoch {:>2}, CIFAR-10 Batch {}:  '.format(epoch + 1, batch_i), end='')\n",
    "        print_stats(sess, batch_features, batch_labels, cost, accuracy)"
   ]
  },
  {
   "cell_type": "markdown",
   "metadata": {},
   "source": [
    "### Fully Train the Model\n",
    "Now that you got a good accuracy with a single CIFAR-10 batch, try it with all five batches."
   ]
  },
  {
   "cell_type": "code",
   "execution_count": 236,
   "metadata": {
    "ExecuteTime": {
     "end_time": "2017-08-31T17:07:23.962874Z",
     "start_time": "2017-08-31T17:05:04.797009Z"
    },
    "scrolled": false
   },
   "outputs": [
    {
     "name": "stdout",
     "output_type": "stream",
     "text": [
      "Training...\n",
      "Epoch  1, CIFAR-10 Batch 1:  Loss: 1.884, Validation Accuracy: 33.60\n",
      "Epoch  1, CIFAR-10 Batch 2:  Loss: 1.330, Validation Accuracy: 41.80\n",
      "Epoch  1, CIFAR-10 Batch 3:  Loss: 1.374, Validation Accuracy: 48.64\n",
      "Epoch  1, CIFAR-10 Batch 4:  Loss: 1.334, Validation Accuracy: 53.44\n",
      "Epoch  1, CIFAR-10 Batch 5:  Loss: 1.518, Validation Accuracy: 56.22\n",
      "Epoch  2, CIFAR-10 Batch 1:  Loss: 1.100, Validation Accuracy: 56.24\n",
      "Epoch  2, CIFAR-10 Batch 2:  Loss: 0.858, Validation Accuracy: 55.68\n",
      "Epoch  2, CIFAR-10 Batch 3:  Loss: 1.102, Validation Accuracy: 59.58\n",
      "Epoch  2, CIFAR-10 Batch 4:  Loss: 0.960, Validation Accuracy: 62.34\n",
      "Epoch  2, CIFAR-10 Batch 5:  Loss: 1.101, Validation Accuracy: 63.56\n",
      "Epoch  3, CIFAR-10 Batch 1:  Loss: 0.772, Validation Accuracy: 64.24\n",
      "Epoch  3, CIFAR-10 Batch 2:  Loss: 0.687, Validation Accuracy: 64.12\n",
      "Epoch  3, CIFAR-10 Batch 3:  Loss: 0.878, Validation Accuracy: 64.48\n",
      "Epoch  3, CIFAR-10 Batch 4:  Loss: 0.877, Validation Accuracy: 65.56\n",
      "Epoch  3, CIFAR-10 Batch 5:  Loss: 0.758, Validation Accuracy: 66.84\n",
      "Epoch  4, CIFAR-10 Batch 1:  Loss: 0.783, Validation Accuracy: 65.24\n",
      "Epoch  4, CIFAR-10 Batch 2:  Loss: 0.476, Validation Accuracy: 67.98\n",
      "Epoch  4, CIFAR-10 Batch 3:  Loss: 0.808, Validation Accuracy: 67.84\n",
      "Epoch  4, CIFAR-10 Batch 4:  Loss: 0.655, Validation Accuracy: 69.26\n",
      "Epoch  4, CIFAR-10 Batch 5:  Loss: 0.809, Validation Accuracy: 67.88\n",
      "Epoch  5, CIFAR-10 Batch 1:  Loss: 0.315, Validation Accuracy: 69.30\n",
      "Epoch  5, CIFAR-10 Batch 2:  Loss: 0.298, Validation Accuracy: 69.96\n",
      "Epoch  5, CIFAR-10 Batch 3:  Loss: 0.728, Validation Accuracy: 70.08\n",
      "Epoch  5, CIFAR-10 Batch 4:  Loss: 0.461, Validation Accuracy: 69.76\n",
      "Epoch  5, CIFAR-10 Batch 5:  Loss: 0.683, Validation Accuracy: 69.96\n",
      "Epoch  6, CIFAR-10 Batch 1:  Loss: 0.297, Validation Accuracy: 69.38\n",
      "Epoch  6, CIFAR-10 Batch 2:  Loss: 0.283, Validation Accuracy: 70.50\n",
      "Epoch  6, CIFAR-10 Batch 3:  Loss: 0.624, Validation Accuracy: 70.08\n",
      "Epoch  6, CIFAR-10 Batch 4:  Loss: 0.396, Validation Accuracy: 71.78\n",
      "Epoch  6, CIFAR-10 Batch 5:  Loss: 0.566, Validation Accuracy: 71.84\n",
      "Epoch  7, CIFAR-10 Batch 1:  Loss: 0.172, Validation Accuracy: 70.66\n",
      "Epoch  7, CIFAR-10 Batch 2:  Loss: 0.278, Validation Accuracy: 70.58\n",
      "Epoch  7, CIFAR-10 Batch 3:  Loss: 0.359, Validation Accuracy: 70.84\n",
      "Epoch  7, CIFAR-10 Batch 4:  Loss: 0.302, Validation Accuracy: 71.86\n",
      "Epoch  7, CIFAR-10 Batch 5:  Loss: 0.362, Validation Accuracy: 71.64\n",
      "Epoch  8, CIFAR-10 Batch 1:  Loss: 0.109, Validation Accuracy: 71.68\n",
      "Epoch  8, CIFAR-10 Batch 2:  Loss: 0.268, Validation Accuracy: 72.40\n",
      "Epoch  8, CIFAR-10 Batch 3:  Loss: 0.239, Validation Accuracy: 71.22\n",
      "Epoch  8, CIFAR-10 Batch 4:  Loss: 0.153, Validation Accuracy: 72.52\n",
      "Epoch  8, CIFAR-10 Batch 5:  Loss: 0.325, Validation Accuracy: 72.04\n",
      "Epoch  9, CIFAR-10 Batch 1:  Loss: 0.110, Validation Accuracy: 72.24\n",
      "Epoch  9, CIFAR-10 Batch 2:  Loss: 0.193, Validation Accuracy: 72.18\n",
      "Epoch  9, CIFAR-10 Batch 3:  Loss: 0.243, Validation Accuracy: 71.58\n",
      "Epoch  9, CIFAR-10 Batch 4:  Loss: 0.166, Validation Accuracy: 71.78\n",
      "Epoch  9, CIFAR-10 Batch 5:  Loss: 0.329, Validation Accuracy: 72.96\n",
      "Epoch 10, CIFAR-10 Batch 1:  Loss: 0.079, Validation Accuracy: 72.34\n",
      "Epoch 10, CIFAR-10 Batch 2:  Loss: 0.167, Validation Accuracy: 72.80\n",
      "Epoch 10, CIFAR-10 Batch 3:  Loss: 0.160, Validation Accuracy: 71.10\n",
      "Epoch 10, CIFAR-10 Batch 4:  Loss: 0.151, Validation Accuracy: 72.36\n",
      "Epoch 10, CIFAR-10 Batch 5:  Loss: 0.361, Validation Accuracy: 71.88\n",
      "Epoch 11, CIFAR-10 Batch 1:  Loss: 0.094, Validation Accuracy: 72.46\n",
      "Epoch 11, CIFAR-10 Batch 2:  Loss: 0.143, Validation Accuracy: 72.76\n",
      "Epoch 11, CIFAR-10 Batch 3:  Loss: 0.195, Validation Accuracy: 71.72\n",
      "Epoch 11, CIFAR-10 Batch 4:  Loss: 0.224, Validation Accuracy: 72.30\n",
      "Epoch 11, CIFAR-10 Batch 5:  Loss: 0.237, Validation Accuracy: 72.54\n",
      "Epoch 12, CIFAR-10 Batch 1:  Loss: 0.122, Validation Accuracy: 72.30\n",
      "Epoch 12, CIFAR-10 Batch 2:  Loss: 0.196, Validation Accuracy: 71.60\n",
      "Epoch 12, CIFAR-10 Batch 3:  Loss: 0.173, Validation Accuracy: 71.52\n",
      "Epoch 12, CIFAR-10 Batch 4:  Loss: 0.170, Validation Accuracy: 72.30\n",
      "Epoch 12, CIFAR-10 Batch 5:  Loss: 0.338, Validation Accuracy: 72.68\n",
      "Epoch 13, CIFAR-10 Batch 1:  Loss: 0.059, Validation Accuracy: 72.58\n",
      "Epoch 13, CIFAR-10 Batch 2:  Loss: 0.090, Validation Accuracy: 73.06\n",
      "Epoch 13, CIFAR-10 Batch 3:  Loss: 0.098, Validation Accuracy: 72.64\n",
      "Epoch 13, CIFAR-10 Batch 4:  Loss: 0.255, Validation Accuracy: 70.94\n",
      "Epoch 13, CIFAR-10 Batch 5:  Loss: 0.381, Validation Accuracy: 73.08\n",
      "Epoch 14, CIFAR-10 Batch 1:  Loss: 0.075, Validation Accuracy: 71.08\n",
      "Epoch 14, CIFAR-10 Batch 2:  Loss: 0.091, Validation Accuracy: 72.50\n",
      "Epoch 14, CIFAR-10 Batch 3:  Loss: 0.081, Validation Accuracy: 72.20\n",
      "Epoch 14, CIFAR-10 Batch 4:  Loss: 0.116, Validation Accuracy: 72.20\n",
      "Epoch 14, CIFAR-10 Batch 5:  Loss: 0.200, Validation Accuracy: 73.12\n",
      "Epoch 15, CIFAR-10 Batch 1:  Loss: 0.075, Validation Accuracy: 71.54\n",
      "Epoch 15, CIFAR-10 Batch 2:  Loss: 0.152, Validation Accuracy: 72.68\n",
      "Epoch 15, CIFAR-10 Batch 3:  Loss: 0.085, Validation Accuracy: 72.34\n",
      "Epoch 15, CIFAR-10 Batch 4:  Loss: 0.105, Validation Accuracy: 73.08\n",
      "Epoch 15, CIFAR-10 Batch 5:  Loss: 0.144, Validation Accuracy: 72.52\n",
      "Epoch 16, CIFAR-10 Batch 1:  Loss: 0.087, Validation Accuracy: 70.72\n",
      "Epoch 16, CIFAR-10 Batch 2:  Loss: 0.058, Validation Accuracy: 73.30\n",
      "Epoch 16, CIFAR-10 Batch 3:  Loss: 0.075, Validation Accuracy: 71.86\n",
      "Epoch 16, CIFAR-10 Batch 4:  Loss: 0.150, Validation Accuracy: 71.12\n",
      "Epoch 16, CIFAR-10 Batch 5:  Loss: 0.070, Validation Accuracy: 72.06\n",
      "Epoch 17, CIFAR-10 Batch 1:  Loss: 0.052, Validation Accuracy: 69.76\n",
      "Epoch 17, CIFAR-10 Batch 2:  Loss: 0.070, Validation Accuracy: 72.70\n",
      "Epoch 17, CIFAR-10 Batch 3:  Loss: 0.046, Validation Accuracy: 73.02\n",
      "Epoch 17, CIFAR-10 Batch 4:  Loss: 0.088, Validation Accuracy: 72.64\n",
      "Epoch 17, CIFAR-10 Batch 5:  Loss: 0.119, Validation Accuracy: 72.64\n",
      "Epoch 18, CIFAR-10 Batch 1:  Loss: 0.022, Validation Accuracy: 72.06\n",
      "Epoch 18, CIFAR-10 Batch 2:  Loss: 0.065, Validation Accuracy: 72.46\n",
      "Epoch 18, CIFAR-10 Batch 3:  Loss: 0.056, Validation Accuracy: 71.86\n",
      "Epoch 18, CIFAR-10 Batch 4:  Loss: 0.112, Validation Accuracy: 72.68\n",
      "Epoch 18, CIFAR-10 Batch 5:  Loss: 0.065, Validation Accuracy: 72.32\n",
      "Epoch 19, CIFAR-10 Batch 1:  Loss: 0.032, Validation Accuracy: 70.94\n",
      "Epoch 19, CIFAR-10 Batch 2:  Loss: 0.139, Validation Accuracy: 72.04\n",
      "Epoch 19, CIFAR-10 Batch 3:  Loss: 0.052, Validation Accuracy: 71.74\n",
      "Epoch 19, CIFAR-10 Batch 4:  Loss: 0.055, Validation Accuracy: 73.38\n",
      "Epoch 19, CIFAR-10 Batch 5:  Loss: 0.085, Validation Accuracy: 72.32\n",
      "Epoch 20, CIFAR-10 Batch 1:  Loss: 0.029, Validation Accuracy: 70.48\n",
      "Epoch 20, CIFAR-10 Batch 2:  Loss: 0.098, Validation Accuracy: 72.46\n",
      "Epoch 20, CIFAR-10 Batch 3:  Loss: 0.095, Validation Accuracy: 73.80\n",
      "Epoch 20, CIFAR-10 Batch 4:  Loss: 0.129, Validation Accuracy: 72.36\n",
      "Epoch 20, CIFAR-10 Batch 5:  Loss: 0.037, Validation Accuracy: 73.16\n",
      "Epoch 21, CIFAR-10 Batch 1:  Loss: 0.015, Validation Accuracy: 72.42\n",
      "Epoch 21, CIFAR-10 Batch 2:  Loss: 0.042, Validation Accuracy: 71.76\n",
      "Epoch 21, CIFAR-10 Batch 3:  Loss: 0.059, Validation Accuracy: 73.74\n",
      "Epoch 21, CIFAR-10 Batch 4:  Loss: 0.082, Validation Accuracy: 72.38\n",
      "Epoch 21, CIFAR-10 Batch 5:  Loss: 0.185, Validation Accuracy: 71.42\n",
      "Epoch 22, CIFAR-10 Batch 1:  Loss: 0.020, Validation Accuracy: 70.76\n",
      "Epoch 22, CIFAR-10 Batch 2:  Loss: 0.023, Validation Accuracy: 72.20\n",
      "Epoch 22, CIFAR-10 Batch 3:  Loss: 0.011, Validation Accuracy: 72.58\n",
      "Epoch 22, CIFAR-10 Batch 4:  Loss: 0.117, Validation Accuracy: 73.32\n",
      "Epoch 22, CIFAR-10 Batch 5:  Loss: 0.040, Validation Accuracy: 73.88\n",
      "Epoch 23, CIFAR-10 Batch 1:  Loss: 0.015, Validation Accuracy: 71.34\n",
      "Epoch 23, CIFAR-10 Batch 2:  Loss: 0.053, Validation Accuracy: 72.08\n",
      "Epoch 23, CIFAR-10 Batch 3:  Loss: 0.026, Validation Accuracy: 72.32\n",
      "Epoch 23, CIFAR-10 Batch 4:  Loss: 0.022, Validation Accuracy: 73.00\n",
      "Epoch 23, CIFAR-10 Batch 5:  Loss: 0.073, Validation Accuracy: 73.30\n",
      "Epoch 24, CIFAR-10 Batch 1:  Loss: 0.026, Validation Accuracy: 70.64\n",
      "Epoch 24, CIFAR-10 Batch 2:  Loss: 0.066, Validation Accuracy: 71.74\n",
      "Epoch 24, CIFAR-10 Batch 3:  Loss: 0.012, Validation Accuracy: 72.68\n",
      "Epoch 24, CIFAR-10 Batch 4:  Loss: 0.094, Validation Accuracy: 73.18\n"
     ]
    },
    {
     "name": "stdout",
     "output_type": "stream",
     "text": [
      "Epoch 24, CIFAR-10 Batch 5:  Loss: 0.028, Validation Accuracy: 73.34\n",
      "Epoch 25, CIFAR-10 Batch 1:  Loss: 0.028, Validation Accuracy: 71.88\n",
      "Epoch 25, CIFAR-10 Batch 2:  Loss: 0.035, Validation Accuracy: 73.20\n",
      "Epoch 25, CIFAR-10 Batch 3:  Loss: 0.010, Validation Accuracy: 72.70\n",
      "Epoch 25, CIFAR-10 Batch 4:  Loss: 0.029, Validation Accuracy: 72.66\n",
      "Epoch 25, CIFAR-10 Batch 5:  Loss: 0.122, Validation Accuracy: 72.26\n",
      "Epoch 26, CIFAR-10 Batch 1:  Loss: 0.044, Validation Accuracy: 71.44\n",
      "Epoch 26, CIFAR-10 Batch 2:  Loss: 0.015, Validation Accuracy: 71.32\n",
      "Epoch 26, CIFAR-10 Batch 3:  Loss: 0.030, Validation Accuracy: 72.52\n",
      "Epoch 26, CIFAR-10 Batch 4:  Loss: 0.061, Validation Accuracy: 73.30\n",
      "Epoch 26, CIFAR-10 Batch 5:  Loss: 0.050, Validation Accuracy: 72.96\n",
      "Epoch 27, CIFAR-10 Batch 1:  Loss: 0.015, Validation Accuracy: 72.34\n",
      "Epoch 27, CIFAR-10 Batch 2:  Loss: 0.031, Validation Accuracy: 71.96\n",
      "Epoch 27, CIFAR-10 Batch 3:  Loss: 0.046, Validation Accuracy: 72.56\n",
      "Epoch 27, CIFAR-10 Batch 4:  Loss: 0.062, Validation Accuracy: 72.76\n",
      "Epoch 27, CIFAR-10 Batch 5:  Loss: 0.024, Validation Accuracy: 72.28\n",
      "Epoch 28, CIFAR-10 Batch 1:  Loss: 0.021, Validation Accuracy: 72.44\n",
      "Epoch 28, CIFAR-10 Batch 2:  Loss: 0.006, Validation Accuracy: 72.64\n",
      "Epoch 28, CIFAR-10 Batch 3:  Loss: 0.009, Validation Accuracy: 72.88\n",
      "Epoch 28, CIFAR-10 Batch 4:  Loss: 0.016, Validation Accuracy: 71.88\n",
      "Epoch 28, CIFAR-10 Batch 5:  Loss: 0.051, Validation Accuracy: 71.20\n",
      "Epoch 29, CIFAR-10 Batch 1:  Loss: 0.003, Validation Accuracy: 71.14\n",
      "Epoch 29, CIFAR-10 Batch 2:  Loss: 0.007, Validation Accuracy: 72.42\n",
      "Epoch 29, CIFAR-10 Batch 3:  Loss: 0.006, Validation Accuracy: 73.26\n",
      "Epoch 29, CIFAR-10 Batch 4:  Loss: 0.032, Validation Accuracy: 73.34\n",
      "Epoch 29, CIFAR-10 Batch 5:  Loss: 0.022, Validation Accuracy: 72.02\n",
      "Epoch 30, CIFAR-10 Batch 1:  Loss: 0.002, Validation Accuracy: 72.28\n",
      "Epoch 30, CIFAR-10 Batch 2:  Loss: 0.037, Validation Accuracy: 72.44\n",
      "Epoch 30, CIFAR-10 Batch 3:  Loss: 0.008, Validation Accuracy: 73.66\n",
      "Epoch 30, CIFAR-10 Batch 4:  Loss: 0.109, Validation Accuracy: 71.28\n",
      "Epoch 30, CIFAR-10 Batch 5:  Loss: 0.022, Validation Accuracy: 71.32\n"
     ]
    }
   ],
   "source": [
    "\"\"\"\n",
    "DON'T MODIFY ANYTHING IN THIS CELL\n",
    "\"\"\"\n",
    "save_model_path = './image_classification'\n",
    "\n",
    "print('Training...')\n",
    "with tf.Session() as sess:\n",
    "    # Initializing the variables\n",
    "    sess.run(tf.global_variables_initializer())\n",
    "    \n",
    "    # Training cycle\n",
    "    for epoch in range(epochs):\n",
    "        # Loop over all batches\n",
    "        n_batches = 5\n",
    "        for batch_i in range(1, n_batches + 1):\n",
    "            for batch_features, batch_labels in helper.load_preprocess_training_batch(batch_i, batch_size):\n",
    "                train_neural_network(sess, optimizer, keep_probability, batch_features, batch_labels)\n",
    "            print('Epoch {:>2}, CIFAR-10 Batch {}:  '.format(epoch + 1, batch_i), end='')\n",
    "            print_stats(sess, batch_features, batch_labels, cost, accuracy)\n",
    "            \n",
    "    # Save Model\n",
    "    saver = tf.train.Saver()\n",
    "    save_path = saver.save(sess, save_model_path)"
   ]
  },
  {
   "cell_type": "markdown",
   "metadata": {},
   "source": [
    "# Checkpoint\n",
    "The model has been saved to disk.\n",
    "## Test Model\n",
    "Test your model against the test dataset.  This will be your final accuracy. You should have an accuracy greater than 50%. If you don't, keep tweaking the model architecture and parameters."
   ]
  },
  {
   "cell_type": "code",
   "execution_count": 238,
   "metadata": {
    "ExecuteTime": {
     "end_time": "2017-08-31T17:07:42.151967Z",
     "start_time": "2017-08-31T17:07:40.600905Z"
    }
   },
   "outputs": [
    {
     "name": "stdout",
     "output_type": "stream",
     "text": [
      "INFO:tensorflow:Restoring parameters from ./image_classification\n",
      "Testing Accuracy: 0.716952875399361\n",
      "\n"
     ]
    },
    {
     "data": {
      "image/png": "[encoded data removed]",
      "text/plain": [
       "<matplotlib.figure.Figure at 0x7f3e3df0a160>"
      ]
     },
     "metadata": {
      "image/png": {
       "height": 319,
       "width": 361
      }
     },
     "output_type": "display_data"
    }
   ],
   "source": [
    "\"\"\"\n",
    "DON'T MODIFY ANYTHING IN THIS CELL\n",
    "\"\"\"\n",
    "%matplotlib inline\n",
    "%config InlineBackend.figure_format = 'retina'\n",
    "\n",
    "import tensorflow as tf\n",
    "import pickle\n",
    "import helper\n",
    "import random\n",
    "\n",
    "# Set batch size if not already set\n",
    "try:\n",
    "    if batch_size:\n",
    "        pass\n",
    "except NameError:\n",
    "    batch_size = 64\n",
    "\n",
    "save_model_path = './image_classification'\n",
    "n_samples = 4\n",
    "top_n_predictions = 3\n",
    "\n",
    "def test_model():\n",
    "    \"\"\"\n",
    "    Test the saved model against the test dataset\n",
    "    \"\"\"\n",
    "\n",
    "    test_features, test_labels = pickle.load(open('preprocess_test.p', mode='rb'))\n",
    "    loaded_graph = tf.Graph()\n",
    "\n",
    "    with tf.Session(graph=loaded_graph) as sess:\n",
    "        # Load model\n",
    "        loader = tf.train.import_meta_graph(save_model_path + '.meta')\n",
    "        loader.restore(sess, save_model_path)\n",
    "\n",
    "        # Get Tensors from loaded model\n",
    "        loaded_x = loaded_graph.get_tensor_by_name('x:0')\n",
    "        loaded_y = loaded_graph.get_tensor_by_name('y:0')\n",
    "        loaded_keep_prob = loaded_graph.get_tensor_by_name('keep_prob:0')\n",
    "        loaded_logits = loaded_graph.get_tensor_by_name('logits:0')\n",
    "        loaded_acc = loaded_graph.get_tensor_by_name('accuracy:0')\n",
    "        \n",
    "        # Get accuracy in batches for memory limitations\n",
    "        test_batch_acc_total = 0\n",
    "        test_batch_count = 0\n",
    "        \n",
    "        for test_feature_batch, test_label_batch in helper.batch_features_labels(test_features, test_labels, batch_size):\n",
    "            test_batch_acc_total += sess.run(\n",
    "                loaded_acc,\n",
    "                feed_dict={loaded_x: test_feature_batch, loaded_y: test_label_batch, loaded_keep_prob: 1.0})\n",
    "            test_batch_count += 1\n",
    "\n",
    "        print('Testing Accuracy: {}\\n'.format(test_batch_acc_total/test_batch_count))\n",
    "\n",
    "        # Print Random Samples\n",
    "        random_test_features, random_test_labels = tuple(zip(*random.sample(list(zip(test_features, test_labels)), n_samples)))\n",
    "        random_test_predictions = sess.run(\n",
    "            tf.nn.top_k(tf.nn.softmax(loaded_logits), top_n_predictions),\n",
    "            feed_dict={loaded_x: random_test_features, loaded_y: random_test_labels, loaded_keep_prob: 1.0})\n",
    "        helper.display_image_predictions(random_test_features, random_test_labels, random_test_predictions)\n",
    "\n",
    "\n",
    "test_model()"
   ]
  },
  {
   "cell_type": "markdown",
   "metadata": {},
   "source": [
    "## Why 50-80% Accuracy?\n",
    "You might be wondering why you can't get an accuracy any higher. First things first, 50% isn't bad for a simple CNN.  Pure guessing would get you 10% accuracy. However, you might notice people are getting scores [well above 80%](http://rodrigob.github.io/are_we_there_yet/build/classification_datasets_results.html#43494641522d3130).  That's because we haven't taught you all there is to know about neural networks. We still need to cover a few more techniques.\n",
    "## Submitting This Project\n",
    "When submitting this project, make sure to run all the cells before saving the notebook.  Save the notebook file as \"dlnd_image_classification.ipynb\" and save it as a HTML file under \"File\" -> \"Download as\".  Include the \"helper.py\" and \"problem_unittests.py\" files in your submission."
   ]
  }
 ],
 "metadata": {
  "kernelspec": {
   "display_name": "Python [default]",
   "language": "python",
   "name": "python3"
  },
  "language_info": {
   "codemirror_mode": {
    "name": "ipython",
    "version": 3
   },
   "file_extension": ".py",
   "mimetype": "text/x-python",
   "name": "python",
   "nbconvert_exporter": "python",
   "pygments_lexer": "ipython3",
   "version": "3.6.1"
  }
 },
 "nbformat": 4,
 "nbformat_minor": 1
}
